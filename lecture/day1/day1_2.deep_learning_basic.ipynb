{
 "cells": [
  {
   "cell_type": "markdown",
   "metadata": {},
   "source": [
    "## 2. 기본 인공신경망 구조\n",
    "### 2-1. Perceptron\n"
   ]
  },
  {
   "cell_type": "code",
   "execution_count": null,
   "metadata": {},
   "outputs": [],
   "source": [
    "import torch\n",
    "import torch.nn as nn\n",
    "\n",
    "device = 'cuda' if torch.cuda.is_available() else 'cpu'\n",
    "torch.manual_seed(777)\n",
    "if device == 'cuda':\n",
    "    torch.cuda.manual_seed_all(777)\n"
   ]
  },
  {
   "cell_type": "code",
   "execution_count": null,
   "metadata": {},
   "outputs": [],
   "source": [
    "X = [x1, x2] = torch.rand(2)\n",
    "Y = torch.rand(1)\n",
    "W = [w1, w2] = torch.rand(2, requires_grad=True)\n",
    "b = torch.rand(1, requires_grad=True)\n",
    "\n",
    "Y_pred = w1 * x1 + w2 * x2 + b\n"
   ]
  },
  {
   "cell_type": "code",
   "execution_count": null,
   "metadata": {},
   "outputs": [],
   "source": [
    "print('Input\\t\\t: ', X)\n",
    "print('Output\\t\\t: ', Y_pred)\n",
    "print('Ground Truth\\t: ', Y)\n",
    "print('Weight\\t\\t: ', W)\n",
    "print('Bias\\t\\t: ', b)"
   ]
  },
  {
   "cell_type": "markdown",
   "metadata": {},
   "source": [
    "### 2-2. Fully Connected Layer"
   ]
  },
  {
   "cell_type": "code",
   "execution_count": null,
   "metadata": {},
   "outputs": [],
   "source": [
    "fully_connected_layer = nn.Linear(2,1)\n",
    "\n",
    "x = torch.rand(1,2)\n",
    "y = fully_connected_layer(x)"
   ]
  },
  {
   "cell_type": "code",
   "execution_count": null,
   "metadata": {},
   "outputs": [],
   "source": [
    "print('Input\\t: ', x)\n",
    "print('Output\\t: ', y)\n",
    "print('Weight\\t: ', fully_connected_layer.weight)\n",
    "print('Bias\\t: ', fully_connected_layer.bias)"
   ]
  },
  {
   "cell_type": "markdown",
   "metadata": {},
   "source": [
    "### 2-3. Multi Layer Perceptron"
   ]
  },
  {
   "cell_type": "code",
   "execution_count": null,
   "metadata": {},
   "outputs": [],
   "source": [
    "model = nn.Sequential(\n",
    "    nn.Linear(764, 100),\n",
    "    nn.ReLU(),\n",
    "    nn.Linear(100, 50),\n",
    "    nn.ReLU(),\n",
    "    nn.Linear(50, 1),\n",
    "    nn.Sigmoid()\n",
    ")\n",
    "\n",
    "x = torch.rand(764)\n",
    "y = model(x.flatten(-1))"
   ]
  },
  {
   "cell_type": "code",
   "execution_count": null,
   "metadata": {},
   "outputs": [],
   "source": [
    "print('Input\\t: ', x)\n",
    "print('Output\\t: ', y)"
   ]
  },
  {
   "cell_type": "markdown",
   "metadata": {},
   "source": [
    "### 논리회로\n",
    "code : PyTorch로 시작하는 딥러닝 입문(https://wikidocs.net/60680)"
   ]
  },
  {
   "cell_type": "code",
   "execution_count": null,
   "metadata": {},
   "outputs": [],
   "source": [
    "def AND_gate(x1, x2):\n",
    "    w1=0.5\n",
    "    w2=0.5\n",
    "    b=-0.7\n",
    "    result = x1*w1 + x2*w2 + b\n",
    "    if result <= 0:\n",
    "        return 0\n",
    "    else:\n",
    "        return 1"
   ]
  },
  {
   "cell_type": "code",
   "execution_count": null,
   "metadata": {},
   "outputs": [],
   "source": [
    "AND_gate(0, 0), AND_gate(0, 1), AND_gate(1, 0), AND_gate(1, 1)"
   ]
  },
  {
   "cell_type": "code",
   "execution_count": null,
   "metadata": {},
   "outputs": [],
   "source": [
    "def OR_gate(x1, x2):\n",
    "    w1=0.6\n",
    "    w2=0.6\n",
    "    b=-0.5\n",
    "    result = x1*w1 + x2*w2 + b\n",
    "    if result <= 0:\n",
    "        return 0\n",
    "    else:\n",
    "        return 1"
   ]
  },
  {
   "cell_type": "code",
   "execution_count": null,
   "metadata": {},
   "outputs": [],
   "source": [
    "OR_gate(0, 0), OR_gate(0, 1), OR_gate(1, 0), OR_gate(1, 1)"
   ]
  },
  {
   "cell_type": "code",
   "execution_count": null,
   "metadata": {},
   "outputs": [],
   "source": [
    "def Wrong_XOR_gate(x1, x2):\n",
    "    w1=0.4\n",
    "    w2=0.67\n",
    "    b=-0.5\n",
    "    result = x1*w1 + x2*w2 + b\n",
    "    if result <= 0:\n",
    "        return 0\n",
    "    else:\n",
    "        return 1"
   ]
  },
  {
   "cell_type": "code",
   "execution_count": null,
   "metadata": {},
   "outputs": [],
   "source": [
    "Wrong_XOR_gate(0, 0), Wrong_XOR_gate(0, 1), Wrong_XOR_gate(1, 0), Wrong_XOR_gate(1, 1)"
   ]
  },
  {
   "cell_type": "markdown",
   "metadata": {},
   "source": [
    "XOR 게이트가 출력해야 하는 정답값은 0, 1, 1, 0 이다.  \n",
    "위의 Wrong_XOR_gate 클래스의 w1, w2, b 값을 아무리 수정하여도 XOR_gate에 맞는 결과를 출력할 수 없음을 알 수 있다.  \n",
    "즉, XOR 게이트는 Perceptron을 통해 구현할 수 없다.  "
   ]
  },
  {
   "cell_type": "markdown",
   "metadata": {},
   "source": [
    "### 2-4. Convolutional Layer"
   ]
  },
  {
   "cell_type": "code",
   "execution_count": null,
   "metadata": {},
   "outputs": [],
   "source": [
    "x = torch.rand(1, 2, 5, 5)\n",
    "model = nn.Conv2d(in_channels=2, out_channels=3, kernel_size=3, stride=1, padding=0)\n",
    "\n",
    "y = model(x)"
   ]
  },
  {
   "cell_type": "code",
   "execution_count": null,
   "metadata": {},
   "outputs": [],
   "source": [
    "print('Input shape:\\t', x.shape)\n",
    "print('Output shape:\\t', y.shape)"
   ]
  },
  {
   "cell_type": "markdown",
   "metadata": {},
   "source": [
    "### 2-5. Pooling Layer"
   ]
  },
  {
   "cell_type": "code",
   "execution_count": null,
   "metadata": {},
   "outputs": [],
   "source": [
    "# pool of square window of size=3, stride=2\n",
    "m = nn.MaxPool2d(3, stride=2)\n",
    "input = torch.randn(20, 16, 50, 32)\n",
    "output = m(input)"
   ]
  },
  {
   "cell_type": "code",
   "execution_count": null,
   "metadata": {},
   "outputs": [],
   "source": [
    "print(input.shape, output.shape)"
   ]
  },
  {
   "cell_type": "markdown",
   "metadata": {},
   "source": [
    "code : https://www.tutorialspoint.com/how-to-apply-a-2d-max-pooling-in-pytorch"
   ]
  },
  {
   "cell_type": "code",
   "execution_count": null,
   "metadata": {},
   "outputs": [],
   "source": [
    "# Python 3 program to perform 2D Max Pooling on image\n",
    "# Import the required libraries\n",
    "import torch\n",
    "import torchvision\n",
    "from PIL import Image\n",
    "import torchvision.transforms as T\n",
    "import torch.nn.functional as F\n",
    "import os\n",
    "\n",
    "# read the input image\n",
    "image_path = os.path.join(os.path.dirname(os.getcwd()), 'data', 'example_image.jpg')\n",
    "print(image_path)\n",
    "img = Image.open(image_path)\n",
    "\n",
    "# convert the image to torch tensor\n",
    "img = T.ToTensor()(img)\n",
    "print(\"Original size of Image:\", img.size()) #Size([3, 466, 700])\n",
    "\n",
    "# unsqueeze to make 4D\n",
    "img = img.unsqueeze(0)\n",
    "\n",
    "# define max pool with square window of size=4, stride=1\n",
    "pool = torch.nn.AvgPool2d(4, 1)\n",
    "img = pool(img)\n",
    "img = img.squeeze(0)\n",
    "print(\"Size after AvgPool:\",img.size())\n",
    "img = T.ToPILImage()(img)\n",
    "img.show()"
   ]
  },
  {
   "cell_type": "markdown",
   "metadata": {},
   "source": [
    "## 3. 모델 학습 요소"
   ]
  },
  {
   "cell_type": "markdown",
   "metadata": {},
   "source": [
    "### 3.1 손실 함수 (Loss function)"
   ]
  },
  {
   "cell_type": "markdown",
   "metadata": {},
   "source": [
    "code : https://neptune.ai/blog/pytorch-loss-functions"
   ]
  },
  {
   "cell_type": "code",
   "execution_count": null,
   "metadata": {},
   "outputs": [],
   "source": [
    "input = torch.randn(3, 5, requires_grad=True)\n",
    "target = torch.randn(3, 5)\n",
    "mse_loss = nn.MSELoss()\n",
    "output = mse_loss(input, target)\n",
    "output.backward()\n",
    "\n",
    "print('input: ', input)\n",
    "print('target: ', target)\n",
    "print('output: ', output)"
   ]
  },
  {
   "cell_type": "code",
   "execution_count": null,
   "metadata": {},
   "outputs": [],
   "source": [
    "input = torch.randn(3, 5, requires_grad=True)\n",
    "target = torch.empty(3, dtype=torch.long).random_(5)\n",
    "\n",
    "cross_entropy_loss = nn.CrossEntropyLoss()\n",
    "output = cross_entropy_loss(input, target)\n",
    "output.backward()\n",
    "\n",
    "print('input: ', input)\n",
    "print('target: ', target)\n",
    "print('output: ', output)"
   ]
  },
  {
   "cell_type": "markdown",
   "metadata": {},
   "source": [
    "### 3.3 활성화 함수 (Activation function)\n",
    "code : https://machinelearningmastery.com/activation-functions-in-pytorch/"
   ]
  },
  {
   "cell_type": "code",
   "execution_count": null,
   "metadata": {},
   "outputs": [],
   "source": [
    "import matplotlib.pyplot as plt\n",
    "\n",
    "# create a PyTorch tensor\n",
    "x = torch.linspace(-10, 10, 100)\n",
    " \n",
    "# apply the logistic activation function to the tensor\n",
    "y = torch.sigmoid(x)\n",
    " \n",
    "# plot the results with a custom color\n",
    "plt.plot(x.numpy(), y.numpy(), color='purple')\n",
    "plt.xlabel('Input')\n",
    "plt.ylabel('Output')\n",
    "plt.title('Logistic Activation Function')\n",
    "plt.show()"
   ]
  },
  {
   "cell_type": "code",
   "execution_count": null,
   "metadata": {},
   "outputs": [],
   "source": [
    "# apply the ReLU activation function to the tensor\n",
    "y = torch.relu(x)\n",
    " \n",
    "# plot the results with a custom color\n",
    "plt.plot(x.numpy(), y.numpy(), color='green')\n",
    "plt.xlabel('Input')\n",
    "plt.ylabel('Output')\n",
    "plt.title('ReLU Activation Function')\n",
    "plt.show()"
   ]
  },
  {
   "cell_type": "markdown",
   "metadata": {},
   "source": [
    "### 3.4 데이터셋 분할\n",
    "code : https://pozalabs.github.io/Dataset_Splitting/"
   ]
  },
  {
   "cell_type": "code",
   "execution_count": null,
   "metadata": {},
   "outputs": [],
   "source": [
    "import numpy as np\n",
    "from sklearn.model_selection import train_test_split"
   ]
  },
  {
   "cell_type": "code",
   "execution_count": null,
   "metadata": {},
   "outputs": [],
   "source": [
    "x_data = np.array([\n",
    "    [2, 1, 4, 2],\n",
    "    [3, 2, 15, 1],\n",
    "    [3, 4, 7, 11],\n",
    "    [5, 15, 8, 5],\n",
    "    [7, 5, 2, 9],\n",
    "    [2, 5, 1, 8],\n",
    "    [8, 9, 3, 6],\n",
    "    [9, 10, 6, 8],\n",
    "    [6, 12, 13, 1],\n",
    "    [9, 2, 18, 32],\n",
    "    [6, 10, 12, 2],\n",
    "    [2, 4, 7, 15],\n",
    "    [15, 6, 2, 7],\n",
    "    [16, 2, 6, 1],\n",
    "    [10, 8, 2, 6],\n",
    "    [13, 12, 11, 2],\n",
    "    [5, 9, 1, 12],\n",
    "    [16, 18, 3, 15],\n",
    "    [12, 1, 8, 3],\n",
    "    [6, 2, 9, 16]\n",
    "])\n",
    "y_data = np.array([3, 5, 7, 10, 12, 7, 13, 13, 12, 13, 12, 6, 13, 6, 6, 2, 17, 12, 2, 9])"
   ]
  },
  {
   "cell_type": "code",
   "execution_count": null,
   "metadata": {},
   "outputs": [],
   "source": [
    "x_train, x_test, y_train, y_test = train_test_split(x_data, y_data, test_size=0.2, shuffle=True, random_state=777)"
   ]
  },
  {
   "cell_type": "code",
   "execution_count": null,
   "metadata": {},
   "outputs": [],
   "source": [
    "x_train, x_val, y_train, y_val = train_test_split(x_train, y_train, test_size=0.25, shuffle=True, random_state=777)"
   ]
  },
  {
   "cell_type": "code",
   "execution_count": null,
   "metadata": {},
   "outputs": [],
   "source": [
    "print(f\"all datasets: {len(x_data)}, train: {len(x_train)}, validataion: {len(x_val)}, test: {len(x_test)}\")"
   ]
  },
  {
   "cell_type": "code",
   "execution_count": null,
   "metadata": {},
   "outputs": [],
   "source": []
  }
 ],
 "metadata": {
  "kernelspec": {
   "display_name": "isaac-sim",
   "language": "python",
   "name": "python3"
  },
  "language_info": {
   "codemirror_mode": {
    "name": "ipython",
    "version": 3
   },
   "file_extension": ".py",
   "mimetype": "text/x-python",
   "name": "python",
   "nbconvert_exporter": "python",
   "pygments_lexer": "ipython3",
   "version": "3.8.19"
  },
  "orig_nbformat": 4
 },
 "nbformat": 4,
 "nbformat_minor": 2
}

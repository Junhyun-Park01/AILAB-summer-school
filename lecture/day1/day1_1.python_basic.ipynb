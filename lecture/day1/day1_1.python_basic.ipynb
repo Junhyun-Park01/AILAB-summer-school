{
 "cells": [
  {
   "attachments": {},
   "cell_type": "markdown",
   "metadata": {},
   "source": [
    "### Import library"
   ]
  },
  {
   "cell_type": "code",
   "execution_count": null,
   "metadata": {},
   "outputs": [],
   "source": [
    "import cv2\n",
    "import numpy as np\n",
    "import matplotlib.pyplot as plt\n",
    "from PIL import Image\n",
    "import urllib.request\n",
    "import os\n",
    "import torch"
   ]
  },
  {
   "attachments": {},
   "cell_type": "markdown",
   "metadata": {},
   "source": [
    "### OS Module"
   ]
  },
  {
   "cell_type": "code",
   "execution_count": null,
   "metadata": {},
   "outputs": [],
   "source": [
    "cur_dir = os.getcwd()                                                      #get current path \n",
    "print(cur_dir)\n",
    "file_list = os.listdir(cur_dir)                                            #get file list in directory\n",
    "print(file_list)\n",
    "tutorial_path = os.path.join(cur_dir, file_list[0])\n",
    "print(tutorial_path)\n",
    "\n",
    "os.makedirs(os.path.join(cur_dir, 'new_folder'), exist_ok=True)            #create folder\n"
   ]
  },
  {
   "attachments": {},
   "cell_type": "markdown",
   "metadata": {},
   "source": [
    "## Numpy"
   ]
  },
  {
   "cell_type": "code",
   "execution_count": null,
   "metadata": {},
   "outputs": [],
   "source": [
    "scores = [10, 50, 78, 90, 89, 54]\n",
    "arr = np.array(scores)\n",
    "print(type(scores))\n",
    "print(type(arr))"
   ]
  },
  {
   "attachments": {},
   "cell_type": "markdown",
   "metadata": {},
   "source": [
    "자료형 설정 및 변환"
   ]
  },
  {
   "cell_type": "code",
   "execution_count": null,
   "metadata": {},
   "outputs": [],
   "source": [
    "int_np = np.array([0,1,2,3,4], dtype=np.uint8)\n",
    "float_np = np.array([0,1.1,2.2,3.3,4.4], dtype='float64')\n",
    "print(int_np.dtype, float_np.dtype)\n",
    "\n",
    "int2float = int_np.astype(dtype='float64')                                #change data type\n",
    "print(int2float.dtype)\n",
    "print(int_np, int2float, float_np)"
   ]
  },
  {
   "cell_type": "code",
   "execution_count": null,
   "metadata": {},
   "outputs": [],
   "source": [
    "scores_1 = [[34,56,23,89], \n",
    "            [11,45,76,34]]\n",
    "\n",
    "second_arr = np.array(scores_1)\n",
    "\n",
    "print(second_arr)\n",
    "print(second_arr.shape)"
   ]
  },
  {
   "attachments": {},
   "cell_type": "markdown",
   "metadata": {},
   "source": [
    "다차원 배열-zeros, ones"
   ]
  },
  {
   "cell_type": "code",
   "execution_count": null,
   "metadata": {},
   "outputs": [],
   "source": [
    "ones = np.ones(5)\n",
    "zeros = np.zeros((2,4))\n",
    "\n",
    "print(ones)\n",
    "print(zeros)"
   ]
  },
  {
   "attachments": {},
   "cell_type": "markdown",
   "metadata": {},
   "source": [
    "### Numpy - calculation"
   ]
  },
  {
   "cell_type": "code",
   "execution_count": null,
   "metadata": {},
   "outputs": [],
   "source": [
    "arr1 = np.array([[1,2,3], [4,5,6], [7,8,9]])\n",
    "arr2 = np.array([[1,2,3], [4,5,6], [7,8,9]])\n",
    "\n",
    "# element wise addition\n",
    "sum = arr1+arr2\n",
    "print(arr1)\n",
    "print(arr2)\n",
    "print(sum)"
   ]
  },
  {
   "attachments": {},
   "cell_type": "markdown",
   "metadata": {},
   "source": [
    "기초연산 : 원소 곱 (Element-wise product), 행렬 곱(Matrix Multiplication)"
   ]
  },
  {
   "cell_type": "code",
   "execution_count": null,
   "metadata": {},
   "outputs": [],
   "source": [
    "# element wise multiplication '*'\n",
    "\"\"\"\n",
    "A = [[a11, a12, a13],\n",
    "     [a21, a22, a23],\n",
    "     [a31, a32, a33]]\n",
    "B = [[b11, b12, b13],\n",
    "     [b21, b22, b23],\n",
    "     [b31, b32, b33]]    \n",
    "A*B = [[a11*b11, a12*b12, a13*b13],\n",
    "       [a21*b21, a22*b22, a23*b23],\n",
    "       [a31*b31, a32*b32, a33*b33]]\n",
    "\"\"\"\n",
    "dot = arr1 * arr2\n",
    "print(arr1)\n",
    "print(arr2)\n",
    "print(dot)"
   ]
  },
  {
   "cell_type": "code",
   "execution_count": null,
   "metadata": {},
   "outputs": [],
   "source": [
    "# matrix multiplication '@'\n",
    "\"\"\"\n",
    "A = [[a11, a12, a13],\n",
    "     [a21, a22, a23],\n",
    "     [a31, a32, a33]]\n",
    "B = [[b11, b12, b13],\n",
    "     [b21, b22, b23],\n",
    "     [b31, b32, b33]]    \n",
    "A@B = [[a11*b11 + a12*b21 + a13*b31, a11*b12 + a12*b22 + a13*b32, a11*b13 + a12*b23 + a13*b33],\n",
    "       [a21*b11 + a22*b21 + a23*b31, a21*b12 + a22*b22 + a23*b32, a21*b13 + a22*b23 + a23*b33],\n",
    "       [a31*b11 + a32*b21 + a33*b31, a31*b12 + a32*b22 + a33*b32, a31*b13 + a32*b23 + a33*b33]]\n",
    "\"\"\"\n",
    "mat_mul = arr1@arr2\n",
    "print(mat_mul)"
   ]
  },
  {
   "attachments": {},
   "cell_type": "markdown",
   "metadata": {},
   "source": [
    "### Numpy - Random"
   ]
  },
  {
   "cell_type": "code",
   "execution_count": null,
   "metadata": {},
   "outputs": [],
   "source": [
    "print(np.random.rand(3,2))"
   ]
  },
  {
   "cell_type": "code",
   "execution_count": null,
   "metadata": {},
   "outputs": [],
   "source": [
    "print(np.random.randint(1, 10, (3,2)))"
   ]
  },
  {
   "cell_type": "code",
   "execution_count": null,
   "metadata": {},
   "outputs": [],
   "source": [
    "print(np.random.uniform(1, 10, (3,2)))"
   ]
  },
  {
   "attachments": {},
   "cell_type": "markdown",
   "metadata": {},
   "source": [
    "## Tensor"
   ]
  },
  {
   "cell_type": "code",
   "execution_count": null,
   "metadata": {},
   "outputs": [],
   "source": [
    "empty_tensor = torch.empty(5,3)\n",
    "zero_tensor = torch.zeros(5,3)\n",
    "ones_tensor = torch.ones(5,3)\n",
    "rand_tensor = torch.rand(5,3)"
   ]
  },
  {
   "cell_type": "code",
   "execution_count": null,
   "metadata": {},
   "outputs": [],
   "source": [
    "print(empty_tensor)\n",
    "print(zero_tensor)\n",
    "print(ones_tensor)\n",
    "print(rand_tensor)"
   ]
  },
  {
   "cell_type": "code",
   "execution_count": null,
   "metadata": {},
   "outputs": [],
   "source": [
    "print(rand_tensor.shape)\n",
    "print(rand_tensor.dtype)\n",
    "print(rand_tensor.max())\n",
    "print(rand_tensor.min())"
   ]
  },
  {
   "cell_type": "code",
   "execution_count": null,
   "metadata": {},
   "outputs": [],
   "source": [
    "int_tensor = rand_tensor.type(\"torch.ByteTensor\")\n",
    "print(int_tensor.dtype)"
   ]
  },
  {
   "cell_type": "code",
   "execution_count": null,
   "metadata": {},
   "outputs": [],
   "source": [
    "print(rand_tensor.shape)\n",
    "rand_tensor_view = rand_tensor.view(-1)\n",
    "print(rand_tensor_view)\n",
    "print(rand_tensor_view.shape)\n",
    "rand_tensor_reshape = rand_tensor.reshape((3,5))\n",
    "print(rand_tensor_reshape)\n",
    "print(rand_tensor_reshape.shape)"
   ]
  },
  {
   "cell_type": "code",
   "execution_count": null,
   "metadata": {},
   "outputs": [],
   "source": [
    "x = torch.tensor([[0.5054, 0.9297, 0.7099],\n",
    "        [0.2999, 0.3026, 0.2200],\n",
    "        [0.8432, 0.3939, 0.5679],\n",
    "        [0.5970, 0.3242, 0.8363]])\n",
    "y = torch.tensor([[0.9742, 0.1757, 0.1224],\n",
    "        [0.8798, 0.4719, 0.7299],\n",
    "        [0.8601, 0.4764, 0.3921],\n",
    "        [0.3018, 0.1983, 0.4925]])"
   ]
  },
  {
   "attachments": {},
   "cell_type": "markdown",
   "metadata": {},
   "source": [
    "Tensor 기본 연산"
   ]
  },
  {
   "cell_type": "code",
   "execution_count": null,
   "metadata": {},
   "outputs": [],
   "source": [
    "x = torch.rand(4,3)\n",
    "y = torch.rand(4,3)\n",
    "print(x)\n",
    "print(y)"
   ]
  },
  {
   "attachments": {},
   "cell_type": "markdown",
   "metadata": {},
   "source": [
    "Tensor 기본 연산 : 행렬 합"
   ]
  },
  {
   "cell_type": "code",
   "execution_count": null,
   "metadata": {},
   "outputs": [],
   "source": [
    "tensor_sum = torch.add(x,y)\n",
    "print(tensor_sum)"
   ]
  },
  {
   "attachments": {},
   "cell_type": "markdown",
   "metadata": {},
   "source": [
    "Tensor 기본 연산 : 행렬 곱"
   ]
  },
  {
   "cell_type": "code",
   "execution_count": null,
   "metadata": {},
   "outputs": [],
   "source": [
    "tensor_mul = torch.mul(x,y)\n",
    "print(tensor_mul)"
   ]
  },
  {
   "attachments": {},
   "cell_type": "markdown",
   "metadata": {},
   "source": [
    "Tensor 합치기 : concatenate"
   ]
  },
  {
   "cell_type": "code",
   "execution_count": null,
   "metadata": {},
   "outputs": [],
   "source": [
    "tensor_cat = torch.cat([x,y], dim=0)\n",
    "print(tensor_cat)\n",
    "print(tensor_cat.shape)"
   ]
  },
  {
   "attachments": {},
   "cell_type": "markdown",
   "metadata": {},
   "source": [
    "Tensor 합치기 : stack"
   ]
  },
  {
   "cell_type": "code",
   "execution_count": null,
   "metadata": {},
   "outputs": [],
   "source": [
    "tensor_stack = torch.stack([x,y], dim=0)\n",
    "print(tensor_stack)\n",
    "print(tensor_stack.shape)"
   ]
  },
  {
   "attachments": {},
   "cell_type": "markdown",
   "metadata": {},
   "source": [
    "## Image Library"
   ]
  },
  {
   "attachments": {},
   "cell_type": "markdown",
   "metadata": {},
   "source": [
    "### Read image with Opencv and plot with Matplotlib"
   ]
  },
  {
   "cell_type": "code",
   "execution_count": null,
   "metadata": {},
   "outputs": [],
   "source": [
    "lecture_root = os.path.dirname(os.getcwd()) # ..../lecture\n",
    "\n",
    "img_path = os.path.join(lecture_root, 'data', 'example_image.jpg')\n",
    "img = cv2.imread(img_path)\n",
    "plt.imshow(img)\n",
    "plt.show()\n",
    "img_bgr = img.copy()"
   ]
  },
  {
   "attachments": {},
   "cell_type": "markdown",
   "metadata": {},
   "source": [
    "### Check image detail"
   ]
  },
  {
   "cell_type": "code",
   "execution_count": null,
   "metadata": {},
   "outputs": [],
   "source": [
    "print(img_bgr.shape)\n",
    "print(img_bgr.dtype)\n",
    "print(np.max(img_bgr), np.min(img_bgr))"
   ]
  },
  {
   "attachments": {},
   "cell_type": "markdown",
   "metadata": {},
   "source": [
    "### 색상 변환 opencv"
   ]
  },
  {
   "cell_type": "code",
   "execution_count": null,
   "metadata": {},
   "outputs": [],
   "source": [
    "img_rgb = cv2.cvtColor(img_bgr, cv2.COLOR_BGR2RGB)\n",
    "img_gray = cv2.cvtColor(img_bgr, cv2.COLOR_RGB2GRAY)\n",
    "img_gray2rgb = cv2.cvtColor(img_gray, cv2.COLOR_GRAY2RGB)\n",
    "\n",
    "print(\"RGB image shape : {}\".format(img_rgb.shape))\n",
    "print(\"BGR image shape : {}\".format(img_bgr.shape))\n",
    "print(\"Gray image shape : {}\".format(img_gray.shape))\n",
    "print(\"Gray2RGB image shape : {}\".format(img_gray2rgb.shape))\n",
    "\n",
    "plt.imshow(img_rgb)\n",
    "plt.show()\n",
    "plt.imshow(img)\n",
    "plt.show()\n",
    "plt.imshow(img_gray)\n",
    "plt.show()\n",
    "plt.imshow(img_gray2rgb)\n",
    "plt.show()"
   ]
  },
  {
   "attachments": {},
   "cell_type": "markdown",
   "metadata": {},
   "source": [
    "### 여러개의 그래프(이미지) 그리기 - matplotlib"
   ]
  },
  {
   "cell_type": "code",
   "execution_count": null,
   "metadata": {},
   "outputs": [],
   "source": [
    "fig = plt.figure(figsize=(10, 5))\n",
    "ax1 = fig.add_subplot(1, 4, 1)\n",
    "ax1.imshow(img_rgb)\n",
    "ax2 = fig.add_subplot(1, 4, 2)\n",
    "ax2.imshow(img_bgr)\n",
    "ax3 = fig.add_subplot(1, 4, 3)\n",
    "ax3.imshow(img_gray, cmap='gray')\n",
    "ax4 = fig.add_subplot(1, 4, 4)\n",
    "ax4.imshow(img_gray2rgb)\n",
    "plt.show()"
   ]
  },
  {
   "attachments": {},
   "cell_type": "markdown",
   "metadata": {},
   "source": [
    "### 여러개의 그래프(이미지) 그리기 - opencv"
   ]
  },
  {
   "cell_type": "code",
   "execution_count": null,
   "metadata": {},
   "outputs": [],
   "source": [
    "hcat = cv2.hconcat([img_rgb, img_bgr, img_gray2rgb])\n",
    "plt.imshow(hcat)\n",
    "plt.show()\n",
    "\n",
    "pad = np.ones((img.shape[0], 30, 3)).astype(np.uint8) * 255\n",
    "hcat_2 = cv2.hconcat([img_rgb, pad, img_bgr, pad, img_gray2rgb])\n",
    "plt.imshow(hcat_2)\n",
    "plt.show()"
   ]
  },
  {
   "attachments": {},
   "cell_type": "markdown",
   "metadata": {},
   "source": [
    "### 이미지 사이즈 변환"
   ]
  },
  {
   "cell_type": "code",
   "execution_count": null,
   "metadata": {},
   "outputs": [],
   "source": [
    "print(\"original image shape : {}\".format(img.shape))\n",
    "\n",
    "img_s = cv2.resize(src=img_rgb, dsize=(100, 100))\n",
    "print(\"resized image shape : {}\".format(img_s.shape))\n",
    "plt.imshow(img_s)\n",
    "plt.show()"
   ]
  },
  {
   "attachments": {},
   "cell_type": "markdown",
   "metadata": {},
   "source": [
    "### 이미지 자료형 변환"
   ]
  },
  {
   "cell_type": "code",
   "execution_count": null,
   "metadata": {},
   "outputs": [],
   "source": [
    "print(img_rgb.dtype, np.max(img_rgb))\n",
    "plt.imshow(img_rgb)\n",
    "plt.show()\n",
    "\n",
    "img_float = img_rgb.astype(np.float32)\n",
    "print(img_float.dtype, np.max(img_float))\n",
    "plt.imshow(img_float)\n",
    "plt.show()\n",
    "\n",
    "img_float /= 255\n",
    "print(img_float.dtype, np.max(img_float))\n",
    "plt.imshow(img_float)\n",
    "plt.show()\n",
    "\n",
    "float2int = img_float.astype(np.uint8)\n",
    "print(float2int.dtype, np.max(float2int))\n",
    "plt.imshow(float2int)\n",
    "plt.show()\n",
    "\n",
    "float2int = (img_float * 255).astype(np.uint8)\n",
    "print(float2int.dtype, np.max(float2int))\n",
    "plt.imshow(float2int)\n",
    "plt.show()\n"
   ]
  },
  {
   "attachments": {},
   "cell_type": "markdown",
   "metadata": {},
   "source": [
    "### Draw rectangle in opencv"
   ]
  },
  {
   "cell_type": "code",
   "execution_count": null,
   "metadata": {},
   "outputs": [],
   "source": [
    "# draw rectangle\n",
    "rectangle = cv2.rectangle(img_rgb.copy(), (50, 100), (150,200), (255,0,0), 10)     # (image, pt1, pt2. color, thickness)\n",
    "plt.imshow(rectangle)\n",
    "plt.show()\n",
    "\n",
    "rectangle_fill = cv2.rectangle(img_rgb.copy(), (50,100), (150,200), (0,0,255), -1) # (image, pt1, pt2. color, thickness)\n",
    "plt.imshow(rectangle_fill)\n",
    "plt.show()"
   ]
  },
  {
   "attachments": {},
   "cell_type": "markdown",
   "metadata": {},
   "source": [
    "### Pillow"
   ]
  },
  {
   "cell_type": "code",
   "execution_count": null,
   "metadata": {},
   "outputs": [],
   "source": [
    "img_pil = Image.open(img_path).convert('RGB')\n",
    "print(type(img_pil))\n",
    "print(img_pil.size)\n",
    "print(img_pil.mode)\n",
    "img_pil.show()"
   ]
  },
  {
   "attachments": {},
   "cell_type": "markdown",
   "metadata": {},
   "source": [
    "### CV(numpy) to Pillow"
   ]
  },
  {
   "cell_type": "code",
   "execution_count": null,
   "metadata": {},
   "outputs": [],
   "source": [
    "pil2np = np.array(img_pil)\n",
    "print(type(pil2np))\n",
    "plt.imshow(pil2np)\n",
    "plt.show()\n",
    "\n",
    "np2pil = Image.fromarray(img_rgb)\n",
    "print(type(np2pil))\n",
    "np2pil.show()\n",
    "plt.imshow(np2pil)\n",
    "plt.show()\n",
    "# display(np2pil)"
   ]
  },
  {
   "attachments": {},
   "cell_type": "markdown",
   "metadata": {},
   "source": [
    "### Numpy to Tensor"
   ]
  },
  {
   "cell_type": "code",
   "execution_count": null,
   "metadata": {},
   "outputs": [],
   "source": [
    "img_torch = torch.from_numpy(img)\n",
    "\n",
    "print(type(img_torch))\n",
    "print(img_torch.shape)\n",
    "print(img_torch.dtype)\n",
    "print(img_torch.max())"
   ]
  },
  {
   "attachments": {},
   "cell_type": "markdown",
   "metadata": {},
   "source": [
    "### Pillow to Tensor"
   ]
  },
  {
   "cell_type": "code",
   "execution_count": null,
   "metadata": {},
   "outputs": [],
   "source": [
    "from torchvision import transforms\n",
    "\n",
    "transform = transforms.ToTensor()\n",
    "img_torch = transform(np2pil)\n",
    "\n",
    "print(type(img_torch))\n",
    "print(img_torch.shape)\n",
    "print(img_torch.dtype)\n",
    "print(img_torch.max())"
   ]
  },
  {
   "attachments": {},
   "cell_type": "markdown",
   "metadata": {},
   "source": [
    "### Numpy, Tensor change dimension"
   ]
  },
  {
   "cell_type": "code",
   "execution_count": null,
   "metadata": {},
   "outputs": [],
   "source": [
    "np_img = np.array(img_torch)\n",
    "print(np_img.shape)\n",
    "np_transpose = np_img.transpose(1,2,0)\n",
    "print(np_transpose.shape)\n",
    "\n",
    "# plt.imshow(np_img)\n",
    "# plt.show()\n",
    "plt.imshow(np_transpose)\n",
    "plt.show()"
   ]
  },
  {
   "cell_type": "code",
   "execution_count": null,
   "metadata": {},
   "outputs": [],
   "source": [
    "print(img_torch.shape)\n",
    "torch_transpose = img_torch.transpose(0,2)\n",
    "print(torch_transpose.shape)\n",
    "torch_permute = img_torch.permute(1,2,0)\n",
    "print(torch_permute.shape)"
   ]
  }
 ],
 "metadata": {
  "kernelspec": {
   "display_name": "Python 3.8.12 ('jm')",
   "language": "python",
   "name": "python3"
  },
  "language_info": {
   "codemirror_mode": {
    "name": "ipython",
    "version": 3
   },
   "file_extension": ".py",
   "mimetype": "text/x-python",
   "name": "python",
   "nbconvert_exporter": "python",
   "pygments_lexer": "ipython3",
   "version": "3.8.19"
  },
  "orig_nbformat": 4,
  "vscode": {
   "interpreter": {
    "hash": "f1de32a2c4b1234568de3f42898b5fb77cdc89d0b8685311417994c24f4e6feb"
   }
  }
 },
 "nbformat": 4,
 "nbformat_minor": 2
}

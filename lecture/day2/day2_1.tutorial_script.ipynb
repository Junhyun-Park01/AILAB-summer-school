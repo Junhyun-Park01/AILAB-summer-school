{
 "cells": [
  {
   "cell_type": "markdown",
   "metadata": {},
   "source": [
    "##### IsaacSim API Tutorial (GUI)\n",
    "\n",
    "- Visualize Script Editor window `(Window -> Script Editor)`\n",
    "  \n",
    "- The following script is intended to be run inside the Script\n",
    "\n",
    "  - (주의!) 스크립트를 복붙하기 전에 콘솔창을 깨끗이하고 붙여넣기"
   ]
  },
  {
   "cell_type": "markdown",
   "metadata": {},
   "source": [
    "\n",
    "##### 1. Initialize World\n",
    "\n",
    "- `World` is the core class that enables you to interact with the simulator in an easy and modular way\n",
    "- callbacks, stepping physics, resetting the scene, adding tasks, etc.\n",
    "- Singleton Class; One `World` per One Isaac Sim\n"
   ]
  },
  {
   "cell_type": "code",
   "execution_count": null,
   "metadata": {},
   "outputs": [],
   "source": [
    "# Inside docker container set nucleus default path to reduce checking server time\n",
    "import carb\n",
    "import omni.isaac.core.utils.carb as carb_utils\n",
    "settings = carb.settings.get_settings()\n",
    "carb_utils.set_carb_setting(settings, \"/persistent/isaac/asset_root/default\", \"http://omniverse-content-production.s3-us-west-2.amazonaws.com/Assets/Isaac/2023.1.1\")"
   ]
  },
  {
   "cell_type": "code",
   "execution_count": null,
   "metadata": {},
   "outputs": [],
   "source": [
    "# Initialize World\n",
    "from omni.isaac.core import World\n",
    "world = World(stage_units_in_meters=1.0)\n",
    "world.scene.add_default_ground_plane()"
   ]
  },
  {
   "cell_type": "markdown",
   "metadata": {},
   "source": [
    "##### 2. Add and Remove Objects\n",
    "\n",
    "- Isaac Sim에서는 기본적으로 몇가지 Primitive Shape 물체를 제공하고 있음\n",
    "- `omni.isaac.core.objects` 에서 확인 가능하며\n",
    "    - Cuboid\n",
    "    - Cone\n",
    "    - Cylinder\n",
    "    - Sphere\n",
    "    - Capsule\n",
    "- 물체 타입은 아래와 같은데, 직접 실습으로 익히는게 빠릅니다.\n",
    "  \n",
    "    - `Visual`: 랜더링만 가능(물리적인 특성이 없음) (다른 물체를 통과 시킴)\n",
    "    - `Fixed`: `Visual` 에서 다른 물체와 상호작용이 가능(물체가 통과하지 않음, 예시: 바닥)\n",
    "    - `Dynamic`: 질량, 마찰 등의 물리적인 특징을 보유\n",
    "- 위 3가지로 `Visual`->`Fixed`->`Dynamic` 순으로 상속 관계를 가짐\n",
    "    ```python\n",
    "    class VisualCuboid(GeometryPrim):\n",
    "        ...\n",
    "    class FixedCuboid(VisualCuboid):\n",
    "        ...\n",
    "    class DynamicCuboid(RigidPrim, FixedCuboid):\n",
    "        ...\n",
    "    ```\n",
    "\n",
    "- (주의!) Isaac Sim 내에 물체를 선언할 때에는 `prim_path` 및 `name` 값은 물체 간에 겹치지 않도록 선언해주어야 함\n",
    "\n"
   ]
  },
  {
   "cell_type": "code",
   "execution_count": null,
   "metadata": {},
   "outputs": [],
   "source": [
    "# Add Object\n",
    "\n",
    "from omni.isaac.core.objects.cuboid import DynamicCuboid, FixedCuboid, VisualCuboid\n",
    "import numpy as np\n",
    "\n",
    "# Red Cube:: Visual Cuboid -> 시각적으로만 표현\n",
    "cube1 = world.scene.add(VisualCuboid(prim_path=\"/World/visual\",\n",
    "                    name=\"visual_cube\",\n",
    "                    position=[0.0, 0.0, 0.5], \n",
    "                    scale=[0.1, 0.1, 0.1],\n",
    "                    color=np.array([1.0, 0.0, 0.0])))\n",
    "\n",
    "# Green Cube:: Fixed Cuboid -> 중력에 영향을 받지 않음\n",
    "cube2 = world.scene.add(FixedCuboid(prim_path=\"/World/fixed\",\n",
    "                   name=\"fixed_cube\",\n",
    "                   position=[0.3, 0.0, 0.5], \n",
    "                   scale=[0.1, 0.1, 0.1], \n",
    "                   color=np.array([0.0, 1.0, 0.0])))\n",
    "\n",
    "# Blue Cube:: Dynamic Cuboid -> 중력에 영향을 받음\n",
    "cube3 = world.scene.add(DynamicCuboid(prim_path=\"/World/dynamic1\", \n",
    "                     name='dynamic_cube',\n",
    "                     position=[0.5, 0.0, 0.5], \n",
    "                     scale=[0.1, 0.1, 0.1], \n",
    "                     color=np.array([0.0, 0.0, 1.0])))"
   ]
  },
  {
   "cell_type": "code",
   "execution_count": null,
   "metadata": {},
   "outputs": [],
   "source": [
    "# Clear All contents\n",
    "world.clear()"
   ]
  },
  {
   "cell_type": "code",
   "execution_count": null,
   "metadata": {},
   "outputs": [],
   "source": [
    "\n",
    "# Add Object\n",
    "world.scene.add_default_ground_plane()\n",
    "cube = world.scene.add(VisualCuboid(prim_path=\"/World/visual\",\n",
    "                    name=\"visual_cube\",\n",
    "                    position=[0.0, 0.0, 0.5], \n",
    "                    scale=[0.1, 0.1, 0.1],\n",
    "                    color=np.array([1.0, 0.0, 0.0])))\n",
    "\n"
   ]
  },
  {
   "cell_type": "code",
   "execution_count": null,
   "metadata": {},
   "outputs": [],
   "source": [
    "\n",
    "# Control Object\n",
    "cube.set_visibility(False) # True로 변경하면 다시 보임\n",
    "\n",
    "cube.set_world_pose([1.0, 0.0, 0.0], [0.0, 0.0, 0.0, 1.0])\n",
    "\n",
    "cube.set_world_pose([1.0, 0.0, 0.05], [0.0, 0.0, 0.0, 1.0])\n",
    "\n",
    "# Remove Object\n",
    "world.scene.remove_object(cube.name)"
   ]
  },
  {
   "cell_type": "markdown",
   "metadata": {},
   "source": [
    "##### 3. Set hierarchy with `prim_path`"
   ]
  },
  {
   "cell_type": "code",
   "execution_count": null,
   "metadata": {},
   "outputs": [],
   "source": [
    "# Clear All contents\n",
    "world.clear()\n",
    "world.scene.add_default_ground_plane()"
   ]
  },
  {
   "cell_type": "code",
   "execution_count": null,
   "metadata": {},
   "outputs": [],
   "source": [
    "from omni.isaac.core.prims import XFormPrim\n",
    "\n",
    "# Add x prim\n",
    "x = world.scene.add(XFormPrim(\"/World/X\", name='x_xform'))\n",
    "\n",
    "# Add Object under x prim\n",
    "cube = world.scene.add(VisualCuboid(prim_path=\"/World/X/visual\",\n",
    "                        name=\"visual_cube_x\",\n",
    "                        position=[0.0, 0.0, 0.5], \n",
    "                        scale=[0.1, 0.1, 0.1],\n",
    "                        color=np.array([1.0, 0.0, 0.0])))\n",
    "\n",
    "\n",
    "# x prim의 특성을 변경하면 하위 오브젝트도 같이 변경\n",
    "x.set_visibility(False) # True로 변경하면 다시 보임\n",
    "\n",
    "x.set_world_pose([1.0, 0.0, 0.0], [0.0, 0.0, 0.0, 1.0]) # x prim의 위치 변경하면 하위 오브젝트도 같이 변경\n",
    "\n",
    "world.scene.remove_object(x.name) # x prim을 삭제하면 하위 오브젝트도 같이 삭제"
   ]
  },
  {
   "cell_type": "markdown",
   "metadata": {},
   "source": [
    "##### 4. Play with Camera Sensor"
   ]
  },
  {
   "cell_type": "code",
   "execution_count": null,
   "metadata": {},
   "outputs": [],
   "source": [
    "# Clear All contents\n",
    "world = World(stage_units_in_meters=1.0)\n",
    "world.scene.add_default_ground_plane()"
   ]
  },
  {
   "cell_type": "code",
   "execution_count": null,
   "metadata": {},
   "outputs": [],
   "source": [
    "from omni.isaac.sensor import Camera\n",
    "\n",
    "my_camera = Camera(                                             \n",
    "    prim_path=\"/World/RGB\",                                     \n",
    "    frequency=20,                                               \n",
    "    resolution=(640, 480),                                    \n",
    "    position=[0.0, 0.0, 1.0],  \n",
    "    orientation=[0.5,-0.5,0.5,0.5]                \n",
    ")\n",
    "my_camera.initialize()                                          \n",
    "my_camera.set_focal_length(1.93)                                \n",
    "my_camera.set_focus_distance(4)                                 \n",
    "my_camera.set_horizontal_aperture(2.65)                         \n",
    "my_camera.set_vertical_aperture(1.48)                           \n",
    "my_camera.set_clipping_range(0.01, 10000)"
   ]
  },
  {
   "cell_type": "markdown",
   "metadata": {},
   "source": [
    "- `Window` -> `Viewport` 로 가서 하나는 default 카메라 뷰, 다른 하나는 생성된 카메라 뷰\n",
    "- 화면의 좌측 상단에 카메라 모양을 눌러서 `Cameras` -> `RGB`"
   ]
  },
  {
   "cell_type": "code",
   "execution_count": null,
   "metadata": {},
   "outputs": [],
   "source": [
    "from omni.isaac.core.objects.cuboid import DynamicCuboid, FixedCuboid, VisualCuboid\n",
    "import numpy as np\n",
    "\n",
    "# Red Cube:: Visual Cuboid -> 시각적으로만 표현\n",
    "cube1 = world.scene.add(VisualCuboid(prim_path=\"/World/visual\",\n",
    "                    name=\"visual_cube\",\n",
    "                    position=[0.0, 0.0, 0.5], \n",
    "                    scale=[0.1, 0.1, 0.1],\n",
    "                    color=np.array([1.0, 0.0, 0.0])))\n",
    "# Green Cube:: Fixed Cuboid -> 중력에 영향을 받지 않음\n",
    "cube2 = world.scene.add(FixedCuboid(prim_path=\"/World/fixed\",\n",
    "                   name=\"fixed_cube\",\n",
    "                   position=[0.3, 0.0, 0.5], \n",
    "                   scale=[0.1, 0.1, 0.1], \n",
    "                   color=np.array([0.0, 1.0, 0.0])))\n",
    "\n",
    "\n",
    "# Blue Cube:: Dynamic Cuboid -> 중력에 영향을 받음\n",
    "cube3 = world.scene.add(DynamicCuboid(prim_path=\"/World/dynamic1\", \n",
    "                     name='dynamic_cube',\n",
    "                     position=[0.5, 0.0, 0.5], \n",
    "                     scale=[0.1, 0.1, 0.1], \n",
    "                     color=np.array([0.0, 0.0, 1.0])))"
   ]
  },
  {
   "cell_type": "markdown",
   "metadata": {},
   "source": [
    "- 카메라 모양 우측에 센서 출력 메뉴를 눌러서 윈도우를 시각화(메뉴 클릭 후 -> `Show Window`)\n",
    "- RGB 이미지를 포함한 다양한 데이터를 관측할 수 있음\n",
    "- 아래 코드는 Semantic Segmenation 라벨을 정하는 코드"
   ]
  },
  {
   "cell_type": "code",
   "execution_count": null,
   "metadata": {},
   "outputs": [],
   "source": [
    "# Add Distance and Instance Segmentation\n",
    "\n",
    "my_camera.add_distance_to_camera_to_frame()            \n",
    "my_camera.add_instance_segmentation_to_frame()"
   ]
  },
  {
   "cell_type": "code",
   "execution_count": null,
   "metadata": {},
   "outputs": [],
   "source": [
    "# Set each object's semantics\n",
    "from omni.isaac.core.utils.semantics import add_update_semantics\n",
    "\n",
    "visual_cube = world.scene.get_object('visual_cube')\n",
    "fixed_cube = world.scene.get_object('fixed_cube')\n",
    "dynamic_cube = world.scene.get_object('dynamic_cube')\n",
    "\n",
    "add_update_semantics(visual_cube.prim, \"0\")\n",
    "add_update_semantics(fixed_cube.prim, \"1\")\n",
    "add_update_semantics(dynamic_cube.prim, \"2\")"
   ]
  }
 ],
 "metadata": {
  "kernelspec": {
   "display_name": "isaac-sim",
   "language": "python",
   "name": "python3"
  },
  "language_info": {
   "codemirror_mode": {
    "name": "ipython",
    "version": 3
   },
   "file_extension": ".py",
   "mimetype": "text/x-python",
   "name": "python",
   "nbconvert_exporter": "python",
   "pygments_lexer": "ipython3",
   "version": "3.10.14"
  }
 },
 "nbformat": 4,
 "nbformat_minor": 2
}
